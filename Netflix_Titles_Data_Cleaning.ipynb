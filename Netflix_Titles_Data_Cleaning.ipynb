{
  "nbformat": 4,
  "nbformat_minor": 0,
  "metadata": {
    "colab": {
      "provenance": []
    },
    "kernelspec": {
      "name": "python3",
      "display_name": "Python 3"
    },
    "language_info": {
      "name": "python"
    }
  },
  "cells": [
    {
      "cell_type": "code",
      "execution_count": null,
      "metadata": {
        "id": "o5-7S1cOd0eu"
      },
      "outputs": [],
      "source": [
        "import numpy as np\n",
        "import pandas as pd\n",
        "from google.colab import files\n",
        "uploaded = files.upload()\n",
        "df =pd.read_csv('netflix_titles.csv')"
      ]
    },
    {
      "cell_type": "markdown",
      "source": [
        "List the number of Movies and TV Shows among the last 20 rows\n",
        "of the dataset."
      ],
      "metadata": {
        "id": "PCPk7qhOWQXr"
      }
    },
    {
      "cell_type": "code",
      "source": [
        "missing_values = df.isnull().sum()\n",
        "total_missing_values = missing_values.sum()\n",
        "missing_values_summary = missing_values[missing_values > 0]\n",
        "print(\"Missing Values Summary:\")\n",
        "print(missing_values_summary)\n",
        "print(\"\\nTotal Missing Values:\", total_missing_values)"
      ],
      "metadata": {
        "id": "oj4VafrhMsjf"
        "last_20 = df.tail(20)\n",
        "movie_count = (last_20['type'] == 'Movie').sum()\n",
        "tv_count = (last_20['type'] == 'TV Show').sum()\n",
        "\n",
        "print(\"\\nAmong the last 20 rows:\")\n",
        "print(\"Movies:\", movie_count)\n",
        "print(\"TV Shows:\", tv_count)"
      ],
      "metadata": {
        "id": "81A2dp1wTRNf"
      },
      "execution_count": null,
      "outputs": []
    },
    {
      "cell_type": "markdown",
      "source": [
        "What datatypes are contained in the dataset?"
      ],
      "metadata": {
        "id": "x7BOPMuTRJK8"
      }
    },
    {
      "cell_type": "code",
      "source": [
        "df.dtypes"
      ],
      "metadata": {
        "id": "Bvnhb6ADQio0"
      },
      "execution_count": null,
      "outputs": []
    }
  ]
}