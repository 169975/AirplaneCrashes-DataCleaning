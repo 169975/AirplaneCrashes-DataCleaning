{
  "nbformat": 4,
  "nbformat_minor": 0,
  "metadata": {
    "colab": {
      "provenance": [],
      "include_colab_link": true
    },
    "kernelspec": {
      "name": "python3",
      "display_name": "Python 3"
    },
    "language_info": {
      "name": "python"
    }
  },
  "cells": [
    {
      "cell_type": "markdown",
      "metadata": {
        "id": "view-in-github",
        "colab_type": "text"
      },
      "source": [
        "<a href=\"https://colab.research.google.com/github/anastacia254/AI-Coursework2025/blob/main/Netflix_Titles_Data_Cleaning.ipynb\" target=\"_parent\"><img src=\"https://colab.research.google.com/assets/colab-badge.svg\" alt=\"Open In Colab\"/></a>"
      ]
    },
    {
      "cell_type": "code",
      "execution_count": null,
      "metadata": {
        "id": "o5-7S1cOd0eu"
      },
      "outputs": [],
      "source": [
        "import numpy as np\n",
        "import pandas as pd\n",
        "from google.colab import files\n",
        "uploaded = files.upload()\n",
        "df =pd.read_csv('netflix_titles.csv')"
      ]
    },
    {
      "cell_type": "markdown",
      "source": [
        "Data indexing question 1\n",
        "Number of all Movies originating from South Africa"
      ],
      "metadata": {
        "id": "XSFoUs5KXyM0"
      }
    },
    {
      "cell_type": "code",
      "source": [
        "sa_movies_count = df[(df['type'] == 'Movie') & (df['country'] == 'South Africa')]\n",
        "print(\" Number of Movies from South Afica;\",len(sa_movies_count))"
      ],
      "metadata": {
        "id": "lY2jy_zsRBEF"
      },
      "execution_count": null,
      "outputs": []
    },
    {
      "cell_type": "markdown",
      "source": [
        "Data indexing question 2\n",
        "What is the description of the movie in the 12th row?"
      ],
      "metadata": {
        "id": "QGuRjJQJYd7V"
      }
    },
    {
      "cell_type": "code",
      "source": [
        "description_12 = df.iloc[11]['description']\n",
        "print(\"Description of the movie in 12th row:\\n\", description_12)"
      ],
      "metadata": {
        "id": "OaaZpGZdYGiq"
      },
      "execution_count": null,
      "outputs": []
    },
    {
      "cell_type": "markdown",
      "source": [
        "Data question 1 How many row and columns are in the dataset?"
      ],
      "metadata": {
        "id": "qNMyZssaEaEr"
      }
    },
    {
      "cell_type": "code",
      "source": [
        "\n",
        "\n",
        "df = pd.read_csv(\"netflix_titles.csv\")\n",
        "print(\"Rows:\", df.shape[0])\n",
        "print(\"Columns:\", df.shape[1])"
      ],
      "metadata": {
        "id": "nu3AheFBZIPj"
      },
      "execution_count": null,
      "outputs": []
    },
    {
      "cell_type": "markdown",
      "source": [
        "List the number of Movies and TV Shows among the last 20 rows\n",
        "of the dataset."
      ],
      "metadata": {
        "id": "xXUqYBKNPMde"
      }
    },
    {
      "cell_type": "code",
      "source": [
        "last_20 = df.tail(20)\n",
        "movie_count = (last_20['type'] == 'Movie').sum()\n",
        "tv_count = (last_20['type'] == 'TV Show').sum()\n",
        "\n",
        "print(\"\\nAmong the last 20 rows:\")\n",
        "print(\"Movies:\", movie_count)\n",
        "print(\"TV Shows:\", tv_count)"
      ],
      "metadata": {
        "id": "QC5ZZDK0POKn"
      },
      "execution_count": null,
      "outputs": []
    }
  ]
}