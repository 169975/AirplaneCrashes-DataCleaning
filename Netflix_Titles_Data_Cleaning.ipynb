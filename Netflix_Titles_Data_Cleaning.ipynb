{
  "nbformat": 4,
  "nbformat_minor": 0,
  "metadata": {
    "colab": {
      "provenance": []
    },
    "kernelspec": {
      "name": "python3",
      "display_name": "Python 3"
    },
    "language_info": {
      "name": "python"
    }
  },
  "cells": [
    {
      "cell_type": "code",
      "execution_count": null,
      "metadata": {
        "id": "o5-7S1cOd0eu"
      },
      "outputs": [],
      "source": [
        "import numpy as np\n",
        "import pandas as pd\n",
        "from google.colab import files\n",
        "uploaded = files.upload()\n",
        "df =pd.read_csv('netflix_titles.csv')"
      ]
    },
    {
      "cell_type": "markdown",
      "source": [
        "Is the dataset complete?** NO.** There is a total of **4307** missing values."
      ],
      "metadata": {
        "id": "NUqmRiAsP-54"
      }
    },
    {
      "cell_type": "code",
      "source": [
        "missing_values = df.isnull().sum()\n",
        "total_missing_values = missing_values.sum()\n",
        "missing_values_summary = missing_values[missing_values > 0]\n",
        "print(\"Missing Values Summary:\")\n",
        "print(missing_values_summary)\n",
        "print(\"\\nTotal Missing Values:\", total_missing_values)"
      ],
      "metadata": {
        "id": "oj4VafrhMsjf"
      },
      "execution_count": null,
      "outputs": []
    }
  ]
}