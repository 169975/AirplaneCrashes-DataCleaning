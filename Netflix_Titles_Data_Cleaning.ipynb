{
  "nbformat": 4,
  "nbformat_minor": 0,
  "metadata": {
    "colab": {
      "provenance": []
    },
    "kernelspec": {
      "name": "python3",
      "display_name": "Python 3"
    },
    "language_info": {
      "name": "python"
    }
  },
  "cells": [
    {
      "cell_type": "code",
      "execution_count": null,
      "metadata": {
        "id": "o5-7S1cOd0eu"
      },
      "outputs": [],
      "source": [
        "import numpy as np\n",
        "import pandas as pd\n",
        "from google.colab import files\n",
        "uploaded = files.upload()\n",
        "df =pd.read_csv('netflix_titles.csv')"
      ]
    },
    {
      "cell_type": "markdown",
      "source": [
        "What datatypes are contained in the dataset?"
      ],
      "metadata": {
        "id": "x7BOPMuTRJK8"
      }
    },
    {
      "cell_type": "code",
      "source": [
        "df.dtypes"
      ],
      "metadata": {
        "id": "Bvnhb6ADQio0"
      },
      "execution_count": null,
      "outputs": []
    }
  ]
}