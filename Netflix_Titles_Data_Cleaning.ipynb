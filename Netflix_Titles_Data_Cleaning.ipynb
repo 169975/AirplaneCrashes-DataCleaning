{
  "nbformat": 4,
  "nbformat_minor": 0,
  "metadata": {
    "colab": {
      "provenance": []
    },
    "kernelspec": {
      "name": "python3",
      "display_name": "Python 3"
    },
    "language_info": {
      "name": "python"
    }
  },
  "cells": [
    {
      "cell_type": "code",
      "execution_count": null,
      "metadata": {
        "id": "o5-7S1cOd0eu"
      },
      "outputs": [],
      "source": [
        "import numpy as np\n",
        "import pandas as pd\n",
        "from google.colab import files\n",
        "uploaded = files.upload()\n",
        "df =pd.read_csv('netflix_titles.csv')"
      ]
    },
    {
      "cell_type": "markdown",
      "source": [
        "Is the dataset complete?** NO.** There is a total of **4307** missing values."
      ],
      "metadata": {
        "id": "NUqmRiAsP-54"
      }
    },
    {
      "cell_type": "code",
      "source": [
        "missing_values = df.isnull().sum()\n",
        "total_missing_values = missing_values.sum()\n",
        "missing_values_summary = missing_values[missing_values > 0]\n",
        "print(\"Missing Values Summary:\")\n",
        "print(missing_values_summary)\n",
        "print(\"\\nTotal Missing Values:\", total_missing_values)"
      ],
      "metadata": {
        "id": "oj4VafrhMsjf"
      },
      "execution_count": null,
      "outputs": []
    },
    {
      "cell_type": "markdown",
      "source": [
        " List the entire cast of all movies released in 2021"
      ],
      "metadata": {
        "id": "FNnQ4uK54bnH"
      }
    },
    {
      "cell_type": "code",
      "source": [
        "# filters rows where by the type considers for only movies and then also considers the release year of 2021\n",
        "#so it filters out all movies released in 2021\n",
        "movies_2021 = df[(df['type'] == 'Movie') & (df['release_year'] == 2021)]\n",
        "\n",
        "if len(movies_2021) > 0:\n",
        "    # the if statement calculates the number of filtered rows we got from the dataframe\n",
        "    cast_info = movies_2021[['title', 'cast']].reset_index(drop=True)#selects only the columns with the title cast and then restarts\n",
        "    # the row numbering to start from 0 hence the .reset_index(drop=True) and removes old index\n",
        "\n",
        "    for i, row in cast_info.iterrows():# the for loop iterates through each row of the data frame by .iterrows and i id for index number of current row\n",
        "        #row is for the data in that row\n",
        "        print(f\"{i+1}. {row['title']}\") #accesses the data from row 1 specifically data with the value 'title'\n",
        "        if pd.notna(row['cast']):#if the cast value is not not null\n",
        "            # Split cast by comma for better readability\n",
        "            cast_members = row['cast'].split(', ')\n",
        "            for member in cast_members:# for loop to output the cast in a list format with bullets\n",
        "                print(f\"   • {member}\")\n",
        "        else:\n",
        "            print(f\"   • No cast information available\")\n",
        "        print()\n",
        "else:\n",
        "    print(\"No movies from 2021 were found in the dataset.\")"
      ],
      "metadata": {
        "id": "0WDduzT_4Y_k"
      },
      "execution_count": null,
      "outputs": []
    }
  ]
}