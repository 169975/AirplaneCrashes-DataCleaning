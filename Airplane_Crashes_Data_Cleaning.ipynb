{
  "nbformat": 4,
  "nbformat_minor": 0,
  "metadata": {
    "colab": {
      "provenance": [],
      "include_colab_link": true
    },
    "kernelspec": {
      "name": "python3",
      "display_name": "Python 3"
    },
    "language_info": {
      "name": "python"
    }
  },
  "cells": [
    {
      "cell_type": "markdown",
      "metadata": {
        "id": "view-in-github",
        "colab_type": "text"
      },
      "source": [
        "<a href=\"https://colab.research.google.com/github/Abraham-isaac/NetflixTitles-DataCleaning/blob/main/Airplane_Crashes_Data_Cleaning.ipynb\" target=\"_parent\"><img src=\"https://colab.research.google.com/assets/colab-badge.svg\" alt=\"Open In Colab\"/></a>"
      ]
    },
    {
      "cell_type": "code",
      "execution_count": 5,
      "metadata": {
        "id": "jMbdK_Ty1tqS",
        "outputId": "1d67a859-34be-4f61-f672-98a6fe74a63d",
        "colab": {
          "base_uri": "https://localhost:8080/",
          "height": 73
        }
      },
      "outputs": [
        {
          "output_type": "display_data",
          "data": {
            "text/plain": [
              "<IPython.core.display.HTML object>"
            ],
            "text/html": [
              "\n",
              "     <input type=\"file\" id=\"files-03ae9b4c-5c70-4527-8c66-740b86667e81\" name=\"files[]\" multiple disabled\n",
              "        style=\"border:none\" />\n",
              "     <output id=\"result-03ae9b4c-5c70-4527-8c66-740b86667e81\">\n",
              "      Upload widget is only available when the cell has been executed in the\n",
              "      current browser session. Please rerun this cell to enable.\n",
              "      </output>\n",
              "      <script>// Copyright 2017 Google LLC\n",
              "//\n",
              "// Licensed under the Apache License, Version 2.0 (the \"License\");\n",
              "// you may not use this file except in compliance with the License.\n",
              "// You may obtain a copy of the License at\n",
              "//\n",
              "//      http://www.apache.org/licenses/LICENSE-2.0\n",
              "//\n",
              "// Unless required by applicable law or agreed to in writing, software\n",
              "// distributed under the License is distributed on an \"AS IS\" BASIS,\n",
              "// WITHOUT WARRANTIES OR CONDITIONS OF ANY KIND, either express or implied.\n",
              "// See the License for the specific language governing permissions and\n",
              "// limitations under the License.\n",
              "\n",
              "/**\n",
              " * @fileoverview Helpers for google.colab Python module.\n",
              " */\n",
              "(function(scope) {\n",
              "function span(text, styleAttributes = {}) {\n",
              "  const element = document.createElement('span');\n",
              "  element.textContent = text;\n",
              "  for (const key of Object.keys(styleAttributes)) {\n",
              "    element.style[key] = styleAttributes[key];\n",
              "  }\n",
              "  return element;\n",
              "}\n",
              "\n",
              "// Max number of bytes which will be uploaded at a time.\n",
              "const MAX_PAYLOAD_SIZE = 100 * 1024;\n",
              "\n",
              "function _uploadFiles(inputId, outputId) {\n",
              "  const steps = uploadFilesStep(inputId, outputId);\n",
              "  const outputElement = document.getElementById(outputId);\n",
              "  // Cache steps on the outputElement to make it available for the next call\n",
              "  // to uploadFilesContinue from Python.\n",
              "  outputElement.steps = steps;\n",
              "\n",
              "  return _uploadFilesContinue(outputId);\n",
              "}\n",
              "\n",
              "// This is roughly an async generator (not supported in the browser yet),\n",
              "// where there are multiple asynchronous steps and the Python side is going\n",
              "// to poll for completion of each step.\n",
              "// This uses a Promise to block the python side on completion of each step,\n",
              "// then passes the result of the previous step as the input to the next step.\n",
              "function _uploadFilesContinue(outputId) {\n",
              "  const outputElement = document.getElementById(outputId);\n",
              "  const steps = outputElement.steps;\n",
              "\n",
              "  const next = steps.next(outputElement.lastPromiseValue);\n",
              "  return Promise.resolve(next.value.promise).then((value) => {\n",
              "    // Cache the last promise value to make it available to the next\n",
              "    // step of the generator.\n",
              "    outputElement.lastPromiseValue = value;\n",
              "    return next.value.response;\n",
              "  });\n",
              "}\n",
              "\n",
              "/**\n",
              " * Generator function which is called between each async step of the upload\n",
              " * process.\n",
              " * @param {string} inputId Element ID of the input file picker element.\n",
              " * @param {string} outputId Element ID of the output display.\n",
              " * @return {!Iterable<!Object>} Iterable of next steps.\n",
              " */\n",
              "function* uploadFilesStep(inputId, outputId) {\n",
              "  const inputElement = document.getElementById(inputId);\n",
              "  inputElement.disabled = false;\n",
              "\n",
              "  const outputElement = document.getElementById(outputId);\n",
              "  outputElement.innerHTML = '';\n",
              "\n",
              "  const pickedPromise = new Promise((resolve) => {\n",
              "    inputElement.addEventListener('change', (e) => {\n",
              "      resolve(e.target.files);\n",
              "    });\n",
              "  });\n",
              "\n",
              "  const cancel = document.createElement('button');\n",
              "  inputElement.parentElement.appendChild(cancel);\n",
              "  cancel.textContent = 'Cancel upload';\n",
              "  const cancelPromise = new Promise((resolve) => {\n",
              "    cancel.onclick = () => {\n",
              "      resolve(null);\n",
              "    };\n",
              "  });\n",
              "\n",
              "  // Wait for the user to pick the files.\n",
              "  const files = yield {\n",
              "    promise: Promise.race([pickedPromise, cancelPromise]),\n",
              "    response: {\n",
              "      action: 'starting',\n",
              "    }\n",
              "  };\n",
              "\n",
              "  cancel.remove();\n",
              "\n",
              "  // Disable the input element since further picks are not allowed.\n",
              "  inputElement.disabled = true;\n",
              "\n",
              "  if (!files) {\n",
              "    return {\n",
              "      response: {\n",
              "        action: 'complete',\n",
              "      }\n",
              "    };\n",
              "  }\n",
              "\n",
              "  for (const file of files) {\n",
              "    const li = document.createElement('li');\n",
              "    li.append(span(file.name, {fontWeight: 'bold'}));\n",
              "    li.append(span(\n",
              "        `(${file.type || 'n/a'}) - ${file.size} bytes, ` +\n",
              "        `last modified: ${\n",
              "            file.lastModifiedDate ? file.lastModifiedDate.toLocaleDateString() :\n",
              "                                    'n/a'} - `));\n",
              "    const percent = span('0% done');\n",
              "    li.appendChild(percent);\n",
              "\n",
              "    outputElement.appendChild(li);\n",
              "\n",
              "    const fileDataPromise = new Promise((resolve) => {\n",
              "      const reader = new FileReader();\n",
              "      reader.onload = (e) => {\n",
              "        resolve(e.target.result);\n",
              "      };\n",
              "      reader.readAsArrayBuffer(file);\n",
              "    });\n",
              "    // Wait for the data to be ready.\n",
              "    let fileData = yield {\n",
              "      promise: fileDataPromise,\n",
              "      response: {\n",
              "        action: 'continue',\n",
              "      }\n",
              "    };\n",
              "\n",
              "    // Use a chunked sending to avoid message size limits. See b/62115660.\n",
              "    let position = 0;\n",
              "    do {\n",
              "      const length = Math.min(fileData.byteLength - position, MAX_PAYLOAD_SIZE);\n",
              "      const chunk = new Uint8Array(fileData, position, length);\n",
              "      position += length;\n",
              "\n",
              "      const base64 = btoa(String.fromCharCode.apply(null, chunk));\n",
              "      yield {\n",
              "        response: {\n",
              "          action: 'append',\n",
              "          file: file.name,\n",
              "          data: base64,\n",
              "        },\n",
              "      };\n",
              "\n",
              "      let percentDone = fileData.byteLength === 0 ?\n",
              "          100 :\n",
              "          Math.round((position / fileData.byteLength) * 100);\n",
              "      percent.textContent = `${percentDone}% done`;\n",
              "\n",
              "    } while (position < fileData.byteLength);\n",
              "  }\n",
              "\n",
              "  // All done.\n",
              "  yield {\n",
              "    response: {\n",
              "      action: 'complete',\n",
              "    }\n",
              "  };\n",
              "}\n",
              "\n",
              "scope.google = scope.google || {};\n",
              "scope.google.colab = scope.google.colab || {};\n",
              "scope.google.colab._files = {\n",
              "  _uploadFiles,\n",
              "  _uploadFilesContinue,\n",
              "};\n",
              "})(self);\n",
              "</script> "
            ]
          },
          "metadata": {}
        },
        {
          "output_type": "stream",
          "name": "stdout",
          "text": [
            "Saving Airplane_Crashes_and_Fatalities_Since_1908.csv to Airplane_Crashes_and_Fatalities_Since_1908 (1).csv\n"
          ]
        }
      ],
      "source": [
        "import pandas as pd\n",
        "from google.colab import files\n",
        "uploaded = files.upload()\n",
        "df = pd.read_csv(\"Airplane_Crashes_and_Fatalities_Since_1908.csv\")\n"
      ]
    },
    {
      "cell_type": "markdown",
      "source": [
        "2. Determine the number of rows and columns in the dataset."
      ],
      "metadata": {
        "id": "4OKJdc6XBlYa"
      }
    },
    {
      "cell_type": "code",
      "source": [
        "print(\"Number of rows and columns in the dataset:\", df.shape)"
      ],
      "metadata": {
        "id": "hNvorZOeBtwy"
      },
      "execution_count": null,
      "outputs": []
    },
    {
      "cell_type": "markdown",
      "source": [
        " 3. Display the last 75 rows in the dataset."
      ],
      "metadata": {
        "id": "g8updaG5ByRB"
      }
    },
    {
      "cell_type": "code",
      "source": [
        "df.tail(75)"
      ],
      "metadata": {
        "id": "asXPVIMZB7ry"
      },
      "execution_count": null,
      "outputs": []
    },
    {
      "cell_type": "markdown",
      "source": [
        "4. Each column except the first one has some missing data. For each column, name\n",
        "the most appropriate method for treating the missing data. Justify your choices.\n"
      ],
      "metadata": {
        "id": "1mOqxGdICB7S"
      }
    },
    {
      "cell_type": "code",
      "source": [
        "# Checks for missing values and counts\n",
        "df.isnull().sum()"
      ],
      "metadata": {
        "id": "B11EHclCCGak"
      },
      "execution_count": null,
      "outputs": []
    },
    {
      "cell_type": "markdown",
      "source": [
        "Handling missing Data column by column.\n",
        "1. Date.\n",
        "0 missing values as a result no action is needed.\n",
        "2. Time.\n",
        "2219 missing values. The missing time values can be filled with `UNKNOWN` OR 00.00. This is because time isn't important for totals.\n",
        "3. Location.\n",
        "20 missing values. The missing location values should be filled with `UNKNOWN`. This helps keep the record while highlighting missing data.\n",
        "4. Operator.\n",
        "18 missing values. The blank spaces need to be filled with the mode(most frequent operator). Since this is an airline they often repeat as a result the most common operator is the best probability.\n",
        "5. Flight.\n",
        "4199 missing values. The blanks should be filled with `UNKNOWN`. Flight have a variety of numbers so filling them with `UNKNOWN` will help avoid deleting data.\n",
        "6. Route.\n",
        "1707 missing values. the blanks should be filled with `UNKNOWN`. Might not be possible to infer missing routes properly and is a text column.\n",
        "7. Type.\n",
        "27 missing values. The missing values should be filled with the mode, which in this case is the most common aircraft type. This is a resonanble approximatin due to the common occurances.\n",
        "8. Registration.\n",
        "335 missing values. The missing values should be filled with `UNKNOWN`. Registration numbers are specific and can't be imputed, it would tamper with the data.\n",
        "9. cn/ln.\n",
        "1228 missing values. The missing values should be filled with `UNKNOWN`. Serial numbers cannot be approximated.\n",
        "10. Aboard.\n",
        "22 missing values. The missing values should be filled with the median value. This reduces distortion from the outliers in the data.\n",
        "12. Fatalities.\n",
        "12 missing values. The missing values should be filled with the median value. This reduces distortion from the outliers in the data.\n",
        "13. Ground.\n",
        "22 missing values. The missing values should be filled with 0. Most of the crashes have a zero ground fatalities.\n",
        "13. Summarry.\n",
        "390 missing values. The missing values should be filled with `NA` or not available.This is because it is textual data and can be marked clearly instead of deleting rows."
      ],
      "metadata": {
        "id": "NpCsIYtFB6rh"
      }
    },
    {
      "cell_type": "markdown",
      "source": [
        "5. Create a new dataframe from the raw/uncleaned data called\n",
        "‘fatality_locations’ with the following columns: ‘Date’,\n",
        "‘Location’, ‘Aboard’, ‘Fatalities’.\n"
      ],
      "metadata": {
        "id": "qrZkaYn1CK1k"
      }
    },
    {
      "cell_type": "code",
      "source": [
        "#Creates a new dataframe with the specific listed columns.\n",
        "fatality_locations = df[['Date', 'Location', 'Aboard', 'Fatalities']].copy()\n",
        "#Displays the first 5 rows.\n",
        "fatality_locations.head()\n"
      ],
      "metadata": {
        "id": "utOdHonjCPqn"
      },
      "execution_count": null,
      "outputs": []
    },
    {
      "cell_type": "markdown",
      "source": [
        "Determine the date of the highest number of recorded fatalities from this new\n",
        "dataframe.\n"
      ],
      "metadata": {
        "id": "XviXTlYXCSY0"
      }
    },
    {
      "cell_type": "code",
      "source": [
        "max_fatal = fatality_locations['Fatalities'].max()\n",
        "fatality_locations[fatality_locations['Fatalities'] == max_fatal][['Date', 'Fatalities']]\n"
      ],
      "metadata": {
        "id": "jY-S-QnvCWP2"
      },
      "execution_count": null,
      "outputs": []
    },
    {
      "cell_type": "markdown",
      "source": [
        "**PUT QUESTION 7 HERE **"
      ],
      "metadata": {
        "id": "yWfOegTzCZcV"
      }
    },
    {
      "cell_type": "code",
      "source": [
        "#paste code for question 7 here"
      ],
      "metadata": {
        "id": "vbzx9zgmCdau"
      },
      "execution_count": null,
      "outputs": []
    },
    {
      "cell_type": "markdown",
      "source": [
        " Q8 In the ‘fatality_locations’ dataframe, the location column has data items\n",
        "represented as ‘Region, U.S. State/Country’. Split this column to have two columns\n",
        "of regions and states/countries"
      ],
      "metadata": {
        "id": "OfpkAKN0Cffg"
      }
    },
    {
      "cell_type": "code",
      "source": [
        "fatality_locations [['Region','State/Country']] = fatality_locations['Location'].str.split(',', n=1 , expand=True)\n",
        "fatality_locations.head()"
      ],
      "metadata": {
        "id": "sMrCTxNwCi96"
      },
      "execution_count": null,
      "outputs": []
    },
    {
      "cell_type": "markdown",
      "source": [
        "Q9 Order the dataframe by the number of fatalities from highest to lowest and select the\n",
        "first 100.\n"
      ],
      "metadata": {
        "id": "SxyFsCprCk0v"
      }
    },
    {
      "cell_type": "code",
      "source": [
        "top_100 = fatality_locations.sort_values(by='Fatalities', ascending=False).head(100)\n",
        "top_100"
      ],
      "metadata": {
        "id": "hheGFRlbCpXQ"
      },
      "execution_count": null,
      "outputs": []
    },
    {
      "cell_type": "markdown",
      "source": [
        " Generate a pie chart that shows the distribution of the top 25 number of fatalities\n",
        "per country/U.S. State. [Hint: charts can be generated from the seaborn library]"
      ],
      "metadata": {
        "id": "3pEBwhRJCr-3"
      }
    },
    {
      "cell_type": "code",
      "source": [
        "import matplotlib.pyplot as plt\n",
        "import seaborn as sns\n",
        "\n",
        "data = fatality_locations['State/Country'].value_counts().head(25)\n",
        "\n",
        "plt.figure(figsize=(5, 5))\n",
        "plt.pie(data.values, labels=data.index)\n",
        "plt.title('Top 25 Fatalities by State/Country')\n",
        "plt.axis('equal')\n",
        "plt.show()"
      ],
      "metadata": {
        "id": "XTQGRTELCvrc"
      },
      "execution_count": null,
      "outputs": []
    }
  ]
}