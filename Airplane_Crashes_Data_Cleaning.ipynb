{
  "nbformat": 4,
  "nbformat_minor": 0,
  "metadata": {
    "colab": {
      "provenance": [],
      "include_colab_link": true
    },
    "kernelspec": {
      "name": "python3",
      "display_name": "Python 3"
    },
    "language_info": {
      "name": "python"
    }
  },
  "cells": [
    {
      "cell_type": "markdown",
      "metadata": {
        "id": "view-in-github",
        "colab_type": "text"
      },
      "source": [
        "<a href=\"https://colab.research.google.com/github/bernardDesmond23/NetflixTitles-DataCleaning/blob/main/Airplane_Crashes_Data_Cleaning.ipynb\" target=\"_parent\"><img src=\"https://colab.research.google.com/assets/colab-badge.svg\" alt=\"Open In Colab\"/></a>"
      ]
    },
    {
      "cell_type": "code",
      "execution_count": null,
      "metadata": {
        "id": "jMbdK_Ty1tqS"
      },
      "outputs": [],
      "source": [
        "import pandas as pd\n",
        "from google.colab import files\n",
        "uploaded = files.upload()\n",
        "df = pd.read_csv(\"Airplane_Crashes_and_Fatalities_Since_1908.csv\")\n"
      ]
    },
    {
      "cell_type": "markdown",
      "source": [
        "2. Determine the number of rows and columns in the dataset."
      ],
      "metadata": {
        "id": "4OKJdc6XBlYa"
      }
    },
    {
      "cell_type": "code",
      "source": [
        "print(\"Number of rows and columns in the dataset:\", df.shape)"
      ],
      "metadata": {
        "id": "hNvorZOeBtwy"
      },
      "execution_count": null,
      "outputs": []
    },
    {
      "cell_type": "markdown",
      "source": [
        " 3. Display the last 75 rows in the dataset."
      ],
      "metadata": {
        "id": "g8updaG5ByRB"
      }
    },
    {
      "cell_type": "code",
      "source": [
        "df.tail(75)"
      ],
      "metadata": {
        "id": "asXPVIMZB7ry"
      },
      "execution_count": null,
      "outputs": []
    },
    {
      "cell_type": "markdown",
      "source": [
        "**PUT QUESTION 4 HERE **"
      ],
      "metadata": {
        "id": "1mOqxGdICB7S"
      }
    },
    {
      "cell_type": "markdown",
      "source": [],
      "metadata": {
        "id": "Ja3tXvpQG09R"
      }
    },
    {
      "cell_type": "code",
      "source": [
        "#paste code for question 4 here"
      ],
      "metadata": {
        "id": "B11EHclCCGak"
      },
      "execution_count": null,
      "outputs": []
    },
    {
      "cell_type": "markdown",
      "source": [
        "Create a new dataframe from the raw/uncleaned data called\n",
        "‘fatality_locations’ with the following columns: ‘Date’,\n",
        "‘Location’, ‘Aboard’, ‘Fatalities’.\n"
      ],
      "metadata": {
        "id": "qrZkaYn1CK1k"
      }
    },
    {
      "cell_type": "code",
      "source": [
        "fatality_locations = df[['Date', 'Location', 'Aboard', 'Fatalities']].copy()\n",
        "fatality_locations.head()\n"
      ],
      "metadata": {
        "id": "utOdHonjCPqn"
      },
      "execution_count": null,
      "outputs": []
    },
    {
      "cell_type": "markdown",
      "source": [
        "Determine the date of the highest number of recorded fatalities from this new\n",
        "dataframe.\n"
      ],
      "metadata": {
        "id": "XviXTlYXCSY0"
      }
    },
    {
      "cell_type": "code",
      "source": [
        "max_fatal = fatality_locations['Fatalities'].max()\n",
        "fatality_locations[fatality_locations['Fatalities'] == max_fatal][['Date', 'Fatalities']]\n"
      ],
      "metadata": {
        "id": "jY-S-QnvCWP2"
      },
      "execution_count": null,
      "outputs": []
    },
    {
      "cell_type": "markdown",
      "source": [
        "**PUT QUESTION 7 HERE **"
      ],
      "metadata": {
        "id": "yWfOegTzCZcV"
      }
    },
    {
      "cell_type": "code",
      "source": [
        "#paste code for question 7 here"
      ],
      "metadata": {
        "id": "vbzx9zgmCdau"
      },
      "execution_count": null,
      "outputs": []
    },
    {
      "cell_type": "markdown",
      "source": [
        "**PUT QUESTION 8 HERE **"
      ],
      "metadata": {
        "id": "OfpkAKN0Cffg"
      }
    },
    {
      "cell_type": "code",
      "source": [
        "#paste code for question 8 here"
      ],
      "metadata": {
        "id": "sMrCTxNwCi96"
      },
      "execution_count": null,
      "outputs": []
    },
    {
      "cell_type": "markdown",
      "source": [
        "**PASTE  QUESTION 9 HERE**"
      ],
      "metadata": {
        "id": "SxyFsCprCk0v"
      }
    },
    {
      "cell_type": "code",
      "source": [
        "#paste code for question 9 here"
      ],
      "metadata": {
        "id": "hheGFRlbCpXQ"
      },
      "execution_count": null,
      "outputs": []
    },
    {
      "cell_type": "markdown",
      "source": [
        "**PASTE QUESTION 10 HERE **"
      ],
      "metadata": {
        "id": "3pEBwhRJCr-3"
      }
    },
    {
      "cell_type": "code",
      "source": [
        "#paste code for question 10 here"
      ],
      "metadata": {
        "id": "XTQGRTELCvrc"
      },
      "execution_count": null,
      "outputs": []
    }
  ]
}