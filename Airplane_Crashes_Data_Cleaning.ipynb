{
  "nbformat": 4,
  "nbformat_minor": 0,
  "metadata": {
    "colab": {
      "provenance": [],
      "include_colab_link": true
    },
    "kernelspec": {
      "name": "python3",
      "display_name": "Python 3"
    },
    "language_info": {
      "name": "python"
    }
  },
  "cells": [
    {
      "cell_type": "markdown",
      "metadata": {
        "id": "view-in-github",
        "colab_type": "text"
      },
      "source": [
        "<a href=\"https://colab.research.google.com/github/anastacia254/AI-Coursework2025/blob/main/Airplane_Crashes_Data_Cleaning.ipynb\" target=\"_parent\"><img src=\"https://colab.research.google.com/assets/colab-badge.svg\" alt=\"Open In Colab\"/></a>"
      ]
    },
    {
      "cell_type": "code",
      "execution_count": null,
      "metadata": {
        "id": "jMbdK_Ty1tqS"
      },
      "outputs": [],
      "source": [
        "import pandas as pd\n",
        "from google.colab import files\n",
        "uploaded = files.upload()\n",
        "df = pd.read_csv(\"Airplane_Crashes_and_Fatalities_Since_1908.csv\")\n"
      ]
    },
    {
      "cell_type": "markdown",
      "source": [
        "2. Determine the number of rows and columns in the dataset."
      ],
      "metadata": {
        "id": "4OKJdc6XBlYa"
      }
    },
    {
      "cell_type": "code",
      "source": [
        "print(\"Number of rows and columns in the dataset:\", df.shape)"
      ],
      "metadata": {
        "id": "hNvorZOeBtwy"
      },
      "execution_count": null,
      "outputs": []
    },
    {
      "cell_type": "markdown",
      "source": [
        " 3. Display the last 75 rows in the dataset."
      ],
      "metadata": {
        "id": "g8updaG5ByRB"
      }
    },
    {
      "cell_type": "code",
      "source": [
        "df.tail(75)"
      ],
      "metadata": {
        "id": "asXPVIMZB7ry"
      },
      "execution_count": null,
      "outputs": []
    },
    {
      "cell_type": "markdown",
      "source": [
        "**PUT QUESTION 4 HERE **"
      ],
      "metadata": {
        "id": "1mOqxGdICB7S"
      }
    },
    {
      "cell_type": "markdown",
      "source": [],
      "metadata": {
        "id": "Ja3tXvpQG09R"
      }
    },
    {
      "cell_type": "code",
      "source": [
        "#paste code for question 4 here"
      ],
      "metadata": {
        "id": "B11EHclCCGak"
      },
      "execution_count": null,
      "outputs": []
    },
    {
      "cell_type": "markdown",
      "source": [
        "Create a new dataframe from the raw/uncleaned data called\n",
        "‘fatality_locations’ with the following columns: ‘Date’,\n",
        "‘Location’, ‘Aboard’, ‘Fatalities’.\n"
      ],
      "metadata": {
        "id": "qrZkaYn1CK1k"
      }
    },
    {
      "cell_type": "code",
      "source": [
        "fatality_locations = df[['Date', 'Location', 'Aboard', 'Fatalities']].copy()\n",
        "fatality_locations.head()\n"
      ],
      "metadata": {
        "id": "utOdHonjCPqn"
      },
      "execution_count": null,
      "outputs": []
    },
    {
      "cell_type": "markdown",
      "source": [
        "Determine the date of the highest number of recorded fatalities from this new\n",
        "dataframe.\n"
      ],
      "metadata": {
        "id": "XviXTlYXCSY0"
      }
    },
    {
      "cell_type": "code",
      "source": [
        "max_fatal = fatality_locations['Fatalities'].max()\n",
        "fatality_locations[fatality_locations['Fatalities'] == max_fatal][['Date', 'Fatalities']]\n"
      ],
      "metadata": {
        "id": "jY-S-QnvCWP2"
      },
      "execution_count": null,
      "outputs": []
    },
    {
      "cell_type": "markdown",
      "source": [
        "Compare the number of passengers aboard to the number of fatalities per crash.  \n",
        "Are here any recorded crashes where there were no fatalities? If so, how many?"
      ],
      "metadata": {
        "id": "yWfOegTzCZcV"
      }
    },
    {
      "cell_type": "code",
      "source": [
        "comparison = fatality_locations[['Aboard','Fatalities']]\n",
        "no_fatalities = fatality_locations[fatality_locations['Fatalities'] == 0]\n",
        "\n",
        "print(\"Comparison of passengers aboard and fatalities per crash:\\n\")\n",
        "display(comparison.head(10))\n",
        "print(f\"\\nNumber of crashes with zero fatalities :{len(no_fatalities)}\")\n",
        "display(no_fatalities)"
      ],
      "metadata": {
        "id": "vbzx9zgmCdau"
      },
      "execution_count": null,
      "outputs": []
    },
    {
      "cell_type": "markdown",
      "source": [
        " Q8 In the ‘fatality_locations’ dataframe, the location column has data items\n",
        "represented as ‘Region, U.S. State/Country’. Split this column to have two columns\n",
        "of regions and states/countries"
      ],
      "metadata": {
        "id": "OfpkAKN0Cffg"
      }
    },
    {
      "cell_type": "code",
      "source": [
        "fatality_locations [['Region','State/Country']] = fatality_locations['Location'].str.split(',', n=1 , expand=True)\n",
        "fatality_locations.head()"
      ],
      "metadata": {
        "id": "sMrCTxNwCi96"
      },
      "execution_count": null,
      "outputs": []
    },
    {
      "cell_type": "markdown",
      "source": [
        "Q9 Order the dataframe by the number of fatalities from highest to lowest and select the\n",
        "first 100.\n"
      ],
      "metadata": {
        "id": "SxyFsCprCk0v"
      }
    },
    {
      "cell_type": "code",
      "source": [
        "top_100 = fatality_locations.sort_values(by='Fatalities', ascending=False).head(100)\n",
        "top_100"
      ],
      "metadata": {
        "id": "hheGFRlbCpXQ"
      },
      "execution_count": null,
      "outputs": []
    },
    {
      "cell_type": "markdown",
      "source": [
        " Generate a pie chart that shows the distribution of the top 25 number of fatalities\n",
        "per country/U.S. State. [Hint: charts can be generated from the seaborn library]"
      ],
      "metadata": {
        "id": "3pEBwhRJCr-3"
      }
    },
    {
      "cell_type": "code",
      "source": [
        "import matplotlib.pyplot as plt\n",
        "import seaborn as sns\n",
        "\n",
        "data = fatality_locations['State/Country'].value_counts().head(25)\n",
        "\n",
        "plt.figure(figsize=(5, 5))\n",
        "plt.pie(data.values, labels=data.index)\n",
        "plt.title('Top 25 Fatalities by State/Country')\n",
        "plt.axis('equal')\n",
        "plt.show()"
      ],
      "metadata": {
        "id": "XTQGRTELCvrc"
      },
      "execution_count": null,
      "outputs": []
    }
  ]
}