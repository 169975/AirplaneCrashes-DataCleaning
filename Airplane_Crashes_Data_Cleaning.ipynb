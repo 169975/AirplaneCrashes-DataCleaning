{
  "nbformat": 4,
  "nbformat_minor": 0,
  "metadata": {
    "colab": {
      "provenance": [],
      "include_colab_link": true
    },
    "kernelspec": {
      "name": "python3",
      "display_name": "Python 3"
    },
    "language_info": {
      "name": "python"
    }
  },
  "cells": [
    {
      "cell_type": "markdown",
      "metadata": {
        "id": "view-in-github",
        "colab_type": "text"
      },
      "source": [
        "<a href=\"https://colab.research.google.com/github/anastacia254/AI-Coursework2025/blob/main/Airplane_Crashes_Data_Cleaning.ipynb\" target=\"_parent\"><img src=\"https://colab.research.google.com/assets/colab-badge.svg\" alt=\"Open In Colab\"/></a>"
      ]
    },
    {
      "cell_type": "code",
      "execution_count": null,
      "metadata": {
        "id": "jMbdK_Ty1tqS"
      },
      "outputs": [],
      "source": [
        "import pandas as pd\n",
        "from google.colab import files\n",
        "uploaded = files.upload()\n",
        "df = pd.read_csv(\"Airplane_Crashes_and_Fatalities_Since_1908.csv\")\n"
      ]
    },
    {
      "cell_type": "markdown",
      "source": [
        "2. Determine the number of rows and columns in the dataset."
      ],
      "metadata": {
        "id": "4OKJdc6XBlYa"
      }
    },
    {
      "cell_type": "code",
      "source": [
        "print(\"Number of rows and columns in the dataset:\", df.shape)"
      ],
      "metadata": {
        "id": "hNvorZOeBtwy"
      },
      "execution_count": null,
      "outputs": []
    },
    {
      "cell_type": "markdown",
      "source": [
        " **PUT QUESTION 3 HERE**"
      ],
      "metadata": {
        "id": "g8updaG5ByRB"
      }
    },
    {
      "cell_type": "code",
      "source": [
        "#paste code for question 3 here"
      ],
      "metadata": {
        "id": "asXPVIMZB7ry"
      },
      "execution_count": null,
      "outputs": []
    },
    {
      "cell_type": "markdown",
      "source": [
        "**PUT QUESTION 4 HERE **"
      ],
      "metadata": {
        "id": "1mOqxGdICB7S"
      }
    },
    {
      "cell_type": "markdown",
      "source": [],
      "metadata": {
        "id": "Ja3tXvpQG09R"
      }
    },
    {
      "cell_type": "code",
      "source": [
        "#paste code for question 4 here"
      ],
      "metadata": {
        "id": "B11EHclCCGak"
      },
      "execution_count": null,
      "outputs": []
    },
    {
      "cell_type": "markdown",
      "source": [
        "**PUT QUESTION 5 HERE **"
      ],
      "metadata": {
        "id": "qrZkaYn1CK1k"
      }
    },
    {
      "cell_type": "code",
      "source": [
        "#paste code for question 5 here"
      ],
      "metadata": {
        "id": "utOdHonjCPqn"
      },
      "execution_count": null,
      "outputs": []
    },
    {
      "cell_type": "markdown",
      "source": [
        "**PUT QUESTION 6 HERE **"
      ],
      "metadata": {
        "id": "XviXTlYXCSY0"
      }
    },
    {
      "cell_type": "code",
      "source": [
        "#paste code for question 6 here"
      ],
      "metadata": {
        "id": "jY-S-QnvCWP2"
      },
      "execution_count": null,
      "outputs": []
    },
    {
      "cell_type": "markdown",
      "source": [
        "**PUT QUESTION 7 HERE **"
      ],
      "metadata": {
        "id": "yWfOegTzCZcV"
      }
    },
    {
      "cell_type": "code",
      "source": [
        "#paste code for question 7 here"
      ],
      "metadata": {
        "id": "vbzx9zgmCdau"
      },
      "execution_count": null,
      "outputs": []
    },
    {
      "cell_type": "markdown",
      "source": [
        "**PUT QUESTION 8 HERE **"
      ],
      "metadata": {
        "id": "OfpkAKN0Cffg"
      }
    },
    {
      "cell_type": "code",
      "source": [
        "#paste code for question 8 here"
      ],
      "metadata": {
        "id": "sMrCTxNwCi96"
      },
      "execution_count": null,
      "outputs": []
    },
    {
      "cell_type": "markdown",
      "source": [
        "**PASTE  QUESTION 9 HERE**"
      ],
      "metadata": {
        "id": "SxyFsCprCk0v"
      }
    },
    {
      "cell_type": "code",
      "source": [
        "#paste code for question 9 here"
      ],
      "metadata": {
        "id": "hheGFRlbCpXQ"
      },
      "execution_count": null,
      "outputs": []
    },
    {
      "cell_type": "markdown",
      "source": [
        "**PASTE QUESTION 10 HERE **"
      ],
      "metadata": {
        "id": "3pEBwhRJCr-3"
      }
    },
    {
      "cell_type": "code",
      "source": [
        "#paste code for question 10 here"
      ],
      "metadata": {
        "id": "XTQGRTELCvrc"
      },
      "execution_count": null,
      "outputs": []
    }
  ]
}